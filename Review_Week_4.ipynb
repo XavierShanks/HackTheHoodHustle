{
  "nbformat": 4,
  "nbformat_minor": 0,
  "metadata": {
    "colab": {
      "provenance": [],
      "authorship_tag": "ABX9TyO6K6yYVtrf94xHvDb8jaFw",
      "include_colab_link": true
    },
    "kernelspec": {
      "name": "python3",
      "display_name": "Python 3"
    },
    "language_info": {
      "name": "python"
    }
  },
  "cells": [
    {
      "cell_type": "markdown",
      "metadata": {
        "id": "view-in-github",
        "colab_type": "text"
      },
      "source": [
        "<a href=\"https://colab.research.google.com/github/XavierShanks/HackTheHoodHustle/blob/main/Review_Week_4.ipynb\" target=\"_parent\"><img src=\"https://colab.research.google.com/assets/colab-badge.svg\" alt=\"Open In Colab\"/></a>"
      ]
    },
    {
      "cell_type": "code",
      "source": [],
      "metadata": {
        "id": "3QIKPUHnwEf6"
      },
      "execution_count": null,
      "outputs": []
    },
    {
      "cell_type": "markdown",
      "source": [
        "# Lists"
      ],
      "metadata": {
        "id": "xiGWpzIqwNGx"
      }
    },
    {
      "cell_type": "code",
      "source": [
        "# 1. Create a list and then print it, making sure to give it a descriptive variable name:\n",
        "\n",
        "my_books = [2, \"Spy School\", \"Captain Underpants\"]\n",
        "\n",
        "print(my_books)"
      ],
      "metadata": {
        "colab": {
          "base_uri": "https://localhost:8080/"
        },
        "id": "ibSt941wwP_E",
        "outputId": "a22037f9-8719-4b9b-947b-d21e80355a91"
      },
      "execution_count": 2,
      "outputs": [
        {
          "output_type": "stream",
          "name": "stdout",
          "text": [
            "[2, 'Spy School', 'Captain Underpants']\n"
          ]
        }
      ]
    },
    {
      "cell_type": "code",
      "source": [
        "# 2 index practice\n",
        "\n",
        "rainbow_colors = ['red', 'orange', 'yellow', 'green', 'blue', 'indigo', 'violet']\n",
        "\n",
        "# Print the third color through indexing\n",
        "\n",
        "\n",
        "print(rainbow_colors[2])"
      ],
      "metadata": {
        "colab": {
          "base_uri": "https://localhost:8080/"
        },
        "id": "3TyiaI8hxA4c",
        "outputId": "c38f18a8-6274-42a3-988e-9246ab8485ab"
      },
      "execution_count": 3,
      "outputs": [
        {
          "output_type": "stream",
          "name": "stdout",
          "text": [
            "yellow\n"
          ]
        }
      ]
    },
    {
      "cell_type": "code",
      "source": [],
      "metadata": {
        "id": "ZVJjLmlczXBJ"
      },
      "execution_count": null,
      "outputs": []
    },
    {
      "cell_type": "markdown",
      "source": [
        "#Inputs\n"
      ],
      "metadata": {
        "id": "J-qc2W4pzYtA"
      }
    },
    {
      "cell_type": "code",
      "source": [
        "# Step 1: Get the user's name as input\n",
        "\n",
        "user_name = input(\"what is your name?? \")\n",
        "\n",
        "print(\"Hello, \" + user_name + \"!\")"
      ],
      "metadata": {
        "colab": {
          "base_uri": "https://localhost:8080/"
        },
        "id": "hej1cBkSzi-Y",
        "outputId": "501c3ee7-14e6-419b-e663-83f001bc578b"
      },
      "execution_count": 4,
      "outputs": [
        {
          "output_type": "stream",
          "name": "stdout",
          "text": [
            "what is your name?? Me\n",
            "Hello, Me!\n"
          ]
        }
      ]
    },
    {
      "cell_type": "code",
      "source": [
        "# Step 2: Get the user's age as input and convert it to an integer\n",
        "\n",
        "age = input(\"How old are you? \")\n",
        "\n",
        "num_age = int(age)\n",
        "\n",
        "future_age = num_age + 5\n",
        "\n",
        "print(f\"WOW! You will be {future_age} in five years!\")"
      ],
      "metadata": {
        "colab": {
          "base_uri": "https://localhost:8080/"
        },
        "id": "Zht-OVcU0fpU",
        "outputId": "bbadf06c-37f9-419f-935f-de344bd00926"
      },
      "execution_count": 5,
      "outputs": [
        {
          "output_type": "stream",
          "name": "stdout",
          "text": [
            "How old are you?5\n",
            "WOW! You will be 10 in five years!\n"
          ]
        }
      ]
    },
    {
      "cell_type": "code",
      "source": [],
      "metadata": {
        "id": "xgCRUKJl16hX"
      },
      "execution_count": null,
      "outputs": []
    },
    {
      "cell_type": "markdown",
      "source": [
        "#Conditoinals\n"
      ],
      "metadata": {
        "id": "WU3eMJPW5oA_"
      }
    },
    {
      "cell_type": "code",
      "source": [
        "#Ask the user's age with an input statement\n",
        "\n",
        "user_age = input(\"What is your age?\")\n",
        "\n",
        "num_age = int(user_age)\n",
        "\n",
        "if num_age >= 18:\n",
        "  print(\"You are an adult, you can vote!\")\n",
        "else:\n",
        "  print(\"You are a minor\")"
      ],
      "metadata": {
        "colab": {
          "base_uri": "https://localhost:8080/"
        },
        "id": "2OIoe_hV5qAk",
        "outputId": "94f62007-a45b-4d4e-a940-a1eaa39fe1a9"
      },
      "execution_count": 8,
      "outputs": [
        {
          "output_type": "stream",
          "name": "stdout",
          "text": [
            "What is your age?5\n",
            "You are a minor\n"
          ]
        }
      ]
    },
    {
      "cell_type": "code",
      "source": [
        "fruits_search = input(\"What would you like to buy at my fruit store today?\")\n",
        "\n",
        "fruits = [\"apple\", \"banana\", \"orange\", \"grape\", \"pineapple\"]\n",
        "if fruits_search.lower() in fruits:\n",
        "  print(\"We have that!\")\n",
        "else:\n",
        " print(\"Sorry, we dont have that\")"
      ],
      "metadata": {
        "colab": {
          "base_uri": "https://localhost:8080/"
        },
        "id": "mT6Kzkfo6_le",
        "outputId": "6f6d5efe-c69a-4c6a-986e-d05eca3626e5"
      },
      "execution_count": 14,
      "outputs": [
        {
          "output_type": "stream",
          "name": "stdout",
          "text": [
            "What would you like to buy at my fruit store today?Apple\n",
            "We have that!\n"
          ]
        }
      ]
    },
    {
      "cell_type": "code",
      "source": [],
      "metadata": {
        "id": "yXX0YJyW872Y"
      },
      "execution_count": 14,
      "outputs": []
    }
  ]
}
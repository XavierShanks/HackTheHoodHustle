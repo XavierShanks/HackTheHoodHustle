{
  "nbformat": 4,
  "nbformat_minor": 0,
  "metadata": {
    "colab": {
      "provenance": [],
      "authorship_tag": "ABX9TyPagP1CHFrkE84K1bD0M/kP",
      "include_colab_link": true
    },
    "kernelspec": {
      "name": "python3",
      "display_name": "Python 3"
    },
    "language_info": {
      "name": "python"
    }
  },
  "cells": [
    {
      "cell_type": "markdown",
      "metadata": {
        "id": "view-in-github",
        "colab_type": "text"
      },
      "source": [
        "<a href=\"https://colab.research.google.com/github/XavierShanks/HackTheHoodHustle/blob/main/week_3_data_structure.ipynb\" target=\"_parent\"><img src=\"https://colab.research.google.com/assets/colab-badge.svg\" alt=\"Open In Colab\"/></a>"
      ]
    },
    {
      "cell_type": "markdown",
      "source": [
        "#List and Dctionaries\n",
        "\n",
        "###### accessing lsts, dictionaries, and manipulating data"
      ],
      "metadata": {
        "id": "bAmV1Ug_vNES"
      }
    },
    {
      "cell_type": "code",
      "source": [
        "#1 make a lst of your favorite food But in a dctionary\n",
        "\n",
        "food_preferences = {\n",
        "    \"Xavier\" : {\n",
        "        \"Likes\" : [\"Sushi\", \"Tacos\", \"Pasta\"],\n",
        "        \"dislikes\" : [\"Peas\"]\n",
        "    }\n",
        "}\n",
        "\n",
        "#print it out\n",
        "\n",
        "print(food_preferences)\n",
        "\n",
        "# 2.print the secound thing that you like\n",
        "\n",
        "print(food_preferences[\"Xavier\"][\"Likes\"][1])\n",
        "\n",
        "# 3. Modify - append (add the end) and pop (remove)\n",
        "\n",
        "food_preferences[\"Xavier\"][\"Likes\"].append(\"Burgers\")"
      ],
      "metadata": {
        "colab": {
          "base_uri": "https://localhost:8080/"
        },
        "id": "4lkTkjY8vo3O",
        "outputId": "3a97d608-45ae-4a64-aa48-ea2c591f18d1"
      },
      "execution_count": 5,
      "outputs": [
        {
          "output_type": "stream",
          "name": "stdout",
          "text": [
            "{'Xavier': {'Likes': ['Sushi', 'Tacos', 'Pasta'], 'dislikes': ['Peas']}}\n",
            "Tacos\n"
          ]
        }
      ]
    },
    {
      "cell_type": "code",
      "source": [],
      "metadata": {
        "id": "QUk03HIZytHR"
      },
      "execution_count": null,
      "outputs": []
    },
    {
      "cell_type": "markdown",
      "source": [
        "# 2nd section"
      ],
      "metadata": {
        "id": "JawPfU-Q3KAe"
      }
    },
    {
      "cell_type": "code",
      "source": [
        "meal_options = {\n",
        "    \"breakfast\": {\n",
        "        \"food\": [\"pancakes\", \"waffles\", \"fruit\"],\n",
        "        \"drinks\": [\"coffee\", \"black tea\", \"smoothie\", \"water\"]\n",
        "    },\n",
        "    \"lunch\": {\n",
        "        \"food\": [\"sandwich\", \"dumplings\"],\n",
        "        \"drinks\": [\"water\", \"green tea\", \"soda\"]\n",
        "    },\n",
        "    \"dinner\": {\n",
        "        \"food\": [\"ramen\", \"risotto\"],\n",
        "        \"drinks\": [\"water\", \"chamomile tea\"]\n",
        "    }\n",
        "}\n",
        "\n",
        "# 1. print all the meal options\n",
        "print(meal_options)\n",
        "# 2. print only the breakfast options\n",
        "print(meal_options[\"breakfast\"])\n",
        "# 3. print the dinner food options\n",
        "print(meal_options[\"dinner\"][\"food\"])\n",
        "# 4. print the lunch drinks options\n",
        "print(meal_options[\"lunch\"][\"drinks\"])\n",
        "# 5. print waffles (by accessing the dictionaries and list)\n",
        "print(meal_options[\"breakfast\"][\"food\"][1])\n",
        "# 6. print dumplings (by accessing the dictionaries and list)\n",
        "print(meal_options[\"lunch\"][\"food\"][1])\n",
        "# 7. print chamomile tea (by accessing the dictionaries and list)\n",
        "print(meal_options[\"dinner\"][\"drinks\"][1])\n",
        "# 8. remove green tea from the lunch drinks\n",
        "meal_options[\"lunch\"][\"drinks\"].pop(1)\n",
        "print(meal_options[\"lunch\"][\"drinks\"])\n",
        "# 9. add pizza to dinner foods\n",
        "meal_options[\"dinner\"][\"food\"].append(\"pizza\")\n",
        "print(meal_options[\"dinner\"][\"food\"])"
      ],
      "metadata": {
        "colab": {
          "base_uri": "https://localhost:8080/"
        },
        "id": "DLMfw-wH3OR1",
        "outputId": "92fc2abc-2fa2-4a03-90b6-01a2ee8782e3"
      },
      "execution_count": 15,
      "outputs": [
        {
          "output_type": "stream",
          "name": "stdout",
          "text": [
            "{'breakfast': {'food': ['pancakes', 'waffles', 'fruit'], 'drinks': ['coffee', 'black tea', 'smoothie', 'water']}, 'lunch': {'food': ['sandwich', 'dumplings'], 'drinks': ['water', 'green tea', 'soda']}, 'dinner': {'food': ['ramen', 'risotto'], 'drinks': ['water', 'chamomile tea']}}\n",
            "{'food': ['pancakes', 'waffles', 'fruit'], 'drinks': ['coffee', 'black tea', 'smoothie', 'water']}\n",
            "['ramen', 'risotto']\n",
            "['water', 'green tea', 'soda']\n",
            "waffles\n",
            "dumplings\n",
            "chamomile tea\n",
            "['water', 'soda']\n",
            "['ramen', 'risotto', 'pizza']\n"
          ]
        }
      ]
    },
    {
      "cell_type": "code",
      "source": [],
      "metadata": {
        "id": "04qbdA7L3UjC"
      },
      "execution_count": null,
      "outputs": []
    }
  ]
}
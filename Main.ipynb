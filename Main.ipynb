{
  "nbformat": 4,
  "nbformat_minor": 0,
  "metadata": {
    "colab": {
      "provenance": [],
      "authorship_tag": "ABX9TyPMRyo4Cw20JTsJqOBtO4OC",
      "include_colab_link": true
    },
    "kernelspec": {
      "name": "python3",
      "display_name": "Python 3"
    },
    "language_info": {
      "name": "python"
    }
  },
  "cells": [
    {
      "cell_type": "markdown",
      "metadata": {
        "id": "view-in-github",
        "colab_type": "text"
      },
      "source": [
        "<a href=\"https://colab.research.google.com/github/XavierShanks/HackTheHoodHustle/blob/main/Main.ipynb\" target=\"_parent\"><img src=\"https://colab.research.google.com/assets/colab-badge.svg\" alt=\"Open In Colab\"/></a>"
      ]
    },
    {
      "cell_type": "code",
      "execution_count": null,
      "metadata": {
        "id": "m72LZeLf-em6"
      },
      "outputs": [],
      "source": [
        "## Yoline, Tiger team Tues: 10 - 12 Orange, 1-3 Teal, 4-6 Green Wed: 10-12 Purple, 1-3 Pink\n",
        "## My instructors are Yoline and Jazz\n",
        "\n",
        "## Github profile:https://github.com/YolineB"
      ]
    }
  ]
}